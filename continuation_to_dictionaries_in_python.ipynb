{
  "nbformat": 4,
  "nbformat_minor": 0,
  "metadata": {
    "colab": {
      "provenance": []
    },
    "kernelspec": {
      "name": "python3",
      "display_name": "Python 3"
    },
    "language_info": {
      "name": "python"
    }
  },
  "cells": [
    {
      "cell_type": "code",
      "execution_count": null,
      "metadata": {
        "id": "_JZuyGmHgfeu"
      },
      "outputs": [],
      "source": []
    },
    {
      "cell_type": "markdown",
      "metadata": {
        "id": "4Zqk_ONTKPID"
      },
      "source": [
        "**Q 5:**\n",
        "\n",
        "Define a function named **concat_dicts**.\n",
        "\n",
        "It will concatenate the dictionaries below and return the resulting dict.\n",
        "\n",
        "The function will take these dictionaries as parameters.\n",
        "\n",
        "**Hints**\n",
        "* use only one for loop\n",
        "* search for looping on multiple dictionaries\n",
        "    * for x in (d1, d2, .... ):\n",
        "* update()\n",
        "\n",
        "<pre>\n",
        "Dictionaries to concat:\n",
        "\n",
        "d1={4:120, 7:60}\n",
        "d2={'A': 300, 'B':400}\n",
        "d3={True: 'Correct', False: 'Incorrect'}\n",
        "\n",
        "Expected Output:\n",
        "{4: 120, 7: 60, 'A': 300, 'B': 400, True: 'Correct', False: 'Incorrect'}\n",
        "</pre>"
      ]
    },
    {
      "cell_type": "code",
      "source": [],
      "metadata": {
        "id": "EzKacYuigj0_"
      },
      "execution_count": null,
      "outputs": []
    },
    {
      "cell_type": "code",
      "execution_count": null,
      "metadata": {
        "id": "8Jd_HpBZKPID"
      },
      "outputs": [],
      "source": [
        "# S 5:\n",
        "def concat_dicts(*dicts):\n",
        "    result_dict = {}\n",
        "    for dictionary in dicts:\n",
        "        result_dict.update(dictionary)\n",
        "    return result_dict\n",
        "\n",
        "\n"
      ]
    },
    {
      "cell_type": "code",
      "source": [],
      "metadata": {
        "id": "6uwK3MiFgn8x"
      },
      "execution_count": null,
      "outputs": []
    },
    {
      "cell_type": "code",
      "execution_count": null,
      "metadata": {
        "colab": {
          "base_uri": "https://localhost:8080/"
        },
        "id": "IU9Eu7A1KPID",
        "outputId": "cbc50f91-5fc1-4abd-ffd0-d5bf56ebe76e"
      },
      "outputs": [
        {
          "output_type": "execute_result",
          "data": {
            "text/plain": [
              "{4: 120, 7: 60, 'A': 'AAA', 'B': 'BBB', True: 'Correct', False: 'Incorrect'}"
            ]
          },
          "metadata": {},
          "execution_count": 16
        }
      ],
      "source": [
        "d1={4:120, 7:60}\n",
        "d2={'A': 'AAA', 'B':'BBB'}\n",
        "d3={True: 'Correct', False: 'Incorrect'}\n",
        "\n",
        "d = concat_dicts(d1, d2, d3)\n",
        "\n",
        "d"
      ]
    },
    {
      "cell_type": "code",
      "source": [],
      "metadata": {
        "id": "-KfaktVdgqhG"
      },
      "execution_count": null,
      "outputs": []
    },
    {
      "cell_type": "markdown",
      "metadata": {
        "id": "8PnLXRqKKPIE"
      },
      "source": [
        "**Q 6:**\n",
        "\n",
        "Define a function named **sum_of_same_keys**.\n",
        "\n",
        "It will take two dictionaries (d1, d2) as parameters.\n",
        "\n",
        "And it will sum the values of items having the same key in both dicts.\n",
        "\n",
        "It will not take distinct keys. So it will return a new dictionary with only common keys.\n",
        "\n",
        "**Hints:**\n",
        "* Check if both parameters are dictionary (dict)\n",
        "    * if not raise an error -> 'Both parameters must be dictionary type!'\n",
        "    * to check -> use isinstance() instead of type().\n",
        "    * isinstance(<variable>, <type>)\n",
        "* Check if both dictionaries have the same length\n",
        "    * if not raise an error -> 'Dictionaries must be the same length!'\n",
        "\n",
        "<pre>\n",
        "Parameters:\n",
        "d1 = {'a': 10, 'b': 30, 'c':50}\n",
        "d2 = {'a': 40, 'b': 60, 'd':90}\n",
        "\n",
        "Expected Output:\n",
        "{'a': 50, 'b': 90}\n",
        "</pre>"
      ]
    },
    {
      "cell_type": "code",
      "source": [],
      "metadata": {
        "id": "qNHlwRNOgqkg"
      },
      "execution_count": null,
      "outputs": []
    },
    {
      "cell_type": "code",
      "execution_count": null,
      "metadata": {
        "id": "FMpCJalxKPIE"
      },
      "outputs": [],
      "source": [
        "# S 6:\n",
        "def sum_of_same_keys(d1, d2):\n",
        "    common_keys = set(d1.keys()).intersection(d2.keys())\n",
        "    result_dict = {}\n",
        "    for key in common_keys:\n",
        "        result_dict[key] = d1[key] + d2[key]\n",
        "    return result_dict\n",
        "\n",
        "\n",
        "\n"
      ]
    },
    {
      "cell_type": "code",
      "source": [],
      "metadata": {
        "id": "ihbfEC5HhBSh"
      },
      "execution_count": null,
      "outputs": []
    },
    {
      "cell_type": "code",
      "execution_count": null,
      "metadata": {
        "colab": {
          "base_uri": "https://localhost:8080/"
        },
        "id": "w8oS98neKPIE",
        "outputId": "b1d13758-c410-459c-9bdd-c16ecc6832e2"
      },
      "outputs": [
        {
          "output_type": "execute_result",
          "data": {
            "text/plain": [
              "{'a': 50, 'd': 190, 'b': 90}"
            ]
          },
          "metadata": {},
          "execution_count": 18
        }
      ],
      "source": [
        "d1 = {'a': 10, 'b': 30, 'c':50, 'd': 100}\n",
        "d2 = {'a': 40, 'b': 60, 'd':90, 'e': 50}\n",
        "sum_of_same_keys(d1, d2)"
      ]
    }
  ]
}